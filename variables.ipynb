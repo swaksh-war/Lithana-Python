{
 "cells": [
  {
   "cell_type": "code",
   "execution_count": 1,
   "metadata": {},
   "outputs": [
    {
     "name": "stdout",
     "output_type": "stream",
     "text": [
      "type of the variable is  <class 'int'>\n",
      "address of the variable is  0x1f96cc40210\n"
     ]
    }
   ],
   "source": [
    "#lets create a Variable\n",
    "\n",
    "a = 10\n",
    "\n",
    "#what is the type of the variable\n",
    "print('type of the variable is ', type(a))\n",
    "#what is the address of the variable\n",
    "print(\"address of the variable is \", hex(id(a))) #hex is to convert the address into hexadecimal number that we will get from the variable id"
   ]
  },
  {
   "cell_type": "code",
   "execution_count": 2,
   "metadata": {},
   "outputs": [
    {
     "name": "stdout",
     "output_type": "stream",
     "text": [
      "<class 'str'> <class 'str'>\n"
     ]
    }
   ],
   "source": [
    "b = 10.20\n",
    "c = True\n",
    "d = 'a'\n",
    "e = 'abcd'\n",
    "\n",
    "print(type(d), type(e))"
   ]
  },
  {
   "cell_type": "code",
   "execution_count": null,
   "metadata": {},
   "outputs": [],
   "source": []
  }
 ],
 "metadata": {
  "kernelspec": {
   "display_name": "Python 3",
   "language": "python",
   "name": "python3"
  },
  "language_info": {
   "codemirror_mode": {
    "name": "ipython",
    "version": 3
   },
   "file_extension": ".py",
   "mimetype": "text/x-python",
   "name": "python",
   "nbconvert_exporter": "python",
   "pygments_lexer": "ipython3",
   "version": "3.10.11"
  }
 },
 "nbformat": 4,
 "nbformat_minor": 2
}
